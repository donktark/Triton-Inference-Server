{
 "cells": [
  {
   "cell_type": "markdown",
   "metadata": {},
   "source": [
    "##### Triton Inference Server Test - BLOOM-560m"
   ]
  },
  {
   "cell_type": "code",
   "execution_count": 2,
   "metadata": {},
   "outputs": [
    {
     "name": "stdout",
     "output_type": "stream",
     "text": [
      "{'model_name': 'bloom-560m', 'model_version': '1', 'outputs': [{'name': 'output', 'datatype': 'BYTES', 'shape': [1], 'data': ['Hey my little dog,  I would like you all to do me the very best by wearing the gold']}]}\n",
      "\n",
      " 👻 ['Hey my little dog,  I would like you all to do me the very best by wearing the gold']\n"
     ]
    }
   ],
   "source": [
    "import requests\n",
    "\n",
    "url = 'http://localhost:8000/v2/models/bloom-560m/infer'\n",
    "\n",
    "sentence = [ \"Hey my little dog, \" ]\n",
    "data = {\n",
    "    'inputs': [\n",
    "        {\n",
    "            \"name\" : \"input\",\n",
    "            \"datatype\" : \"BYTES\",\n",
    "            \"shape\" : [ 1 ],\n",
    "            \"data\" : sentence\n",
    "        }\n",
    "    ],\n",
    "    'params.': [\n",
    "        {\n",
    "            'binary_data_size' : 0 ,\n",
    "            'shared_memory_region' : 'bloom-560m',\n",
    "        }\n",
    "    ]\n",
    "}\n",
    "response = requests.post(url, json=data)\n",
    "answer = response.json()\n",
    "print(answer)\n",
    "print('\\n 👻', answer['outputs'][0]['data'])"
   ]
  }
 ],
 "metadata": {
  "kernelspec": {
   "display_name": "Python 3",
   "language": "python",
   "name": "python3"
  },
  "language_info": {
   "codemirror_mode": {
    "name": "ipython",
    "version": 3
   },
   "file_extension": ".py",
   "mimetype": "text/x-python",
   "name": "python",
   "nbconvert_exporter": "python",
   "pygments_lexer": "ipython3",
   "version": "3.8.10"
  }
 },
 "nbformat": 4,
 "nbformat_minor": 2
}
